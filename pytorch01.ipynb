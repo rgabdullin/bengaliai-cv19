{
 "cells": [
  {
   "cell_type": "code",
   "execution_count": 1,
   "metadata": {},
   "outputs": [],
   "source": [
    "import pandas as pd\n",
    "import numpy as np\n",
    "import os\n",
    "import multiprocessing as mp\n",
    "\n",
    "import torch\n",
    "import torch.nn as nn\n",
    "import torch.nn.functional as F\n",
    "import torch.optim as optim\n",
    "\n",
    "import torchvision.transforms as T\n",
    "import torchvision.transforms.functional as TF\n",
    "\n",
    "from PIL import Image\n",
    "from skimage import feature\n",
    "from skimage import filters\n",
    "from skimage import exposure\n",
    "from skimage import img_as_float\n",
    "from skimage import io\n",
    "\n",
    "from sklearn.model_selection import train_test_split\n",
    "from torch.utils.data import Dataset, DataLoader, Sampler\n",
    "\n",
    "from datetime import datetime\n",
    "from tqdm.notebook import tqdm as tqdm\n",
    "from utils import mkdir, rmdir\n",
    "from ipywidgets import Output\n",
    "\n",
    "import matplotlib.pyplot as plt\n",
    "import seaborn as sns\n",
    "plt.rcParams.update({'font.size': 10})\n",
    "plt.style.use('ggplot')"
   ]
  },
  {
   "cell_type": "code",
   "execution_count": 2,
   "metadata": {},
   "outputs": [
    {
     "name": "stdout",
     "output_type": "stream",
     "text": [
      "PyTorch built with:\n",
      "  - GCC 7.3\n",
      "  - Intel(R) Math Kernel Library Version 2019.0.4 Product Build 20190411 for Intel(R) 64 architecture applications\n",
      "  - Intel(R) MKL-DNN v0.20.5 (Git Hash 0125f28c61c1f822fd48570b4c1066f96fcb9b2e)\n",
      "  - OpenMP 201511 (a.k.a. OpenMP 4.5)\n",
      "  - NNPACK is enabled\n",
      "  - CUDA Runtime 10.1\n",
      "  - NVCC architecture flags: -gencode;arch=compute_37,code=sm_37;-gencode;arch=compute_50,code=sm_50;-gencode;arch=compute_60,code=sm_60;-gencode;arch=compute_61,code=sm_61;-gencode;arch=compute_70,code=sm_70;-gencode;arch=compute_75,code=sm_75;-gencode;arch=compute_37,code=compute_37\n",
      "  - CuDNN 7.6.3\n",
      "  - Magma 2.5.1\n",
      "  - Build settings: BLAS=MKL, BUILD_NAMEDTENSOR=OFF, BUILD_TYPE=Release, CXX_FLAGS= -Wno-deprecated -fvisibility-inlines-hidden -fopenmp -DUSE_FBGEMM -DUSE_QNNPACK -DUSE_PYTORCH_QNNPACK -O2 -fPIC -Wno-narrowing -Wall -Wextra -Wno-missing-field-initializers -Wno-type-limits -Wno-array-bounds -Wno-unknown-pragmas -Wno-sign-compare -Wno-unused-parameter -Wno-unused-variable -Wno-unused-function -Wno-unused-result -Wno-strict-overflow -Wno-strict-aliasing -Wno-error=deprecated-declarations -Wno-stringop-overflow -Wno-error=pedantic -Wno-error=redundant-decls -Wno-error=old-style-cast -fdiagnostics-color=always -faligned-new -Wno-unused-but-set-variable -Wno-maybe-uninitialized -fno-math-errno -fno-trapping-math -Wno-stringop-overflow, DISABLE_NUMA=1, PERF_WITH_AVX=1, PERF_WITH_AVX2=1, PERF_WITH_AVX512=1, USE_CUDA=True, USE_EXCEPTION_PTR=1, USE_GFLAGS=OFF, USE_GLOG=OFF, USE_MKL=ON, USE_MKLDNN=ON, USE_MPI=OFF, USE_NCCL=ON, USE_NNPACK=ON, USE_OPENMP=ON, USE_STATIC_DISPATCH=OFF, \n",
      "\n"
     ]
    }
   ],
   "source": [
    "print(*torch.__config__.show().split(\"\\n\"), sep=\"\\n\")"
   ]
  },
  {
   "cell_type": "code",
   "execution_count": 3,
   "metadata": {},
   "outputs": [],
   "source": [
    "NUM_WORKERS = 8\n",
    "CLASS_NUM = 43\n",
    "\n",
    "IMG_SIZE = (64, 64)\n",
    "\n",
    "MAX_ROTATION = 30\n",
    "\n",
    "MIN_BRIGHTNESS = 0.4\n",
    "MAX_BRIGHTNESS = 2.0\n",
    "\n",
    "MIN_CONTRAST = 0.4\n",
    "MAX_CONTRAST = 2.0\n",
    "\n",
    "MIN_SATURATION = 0.4\n",
    "MAX_SATURATION = 1.6\n",
    "\n",
    "DISTORTION = 0.4\n",
    "MAX_TRANSITION = 0.25\n",
    "\n",
    "MIN_SCALE = 0.9\n",
    "MAX_SCALE = 1.1\n",
    "\n",
    "NOISE_STD = 0.02"
   ]
  },
  {
   "cell_type": "code",
   "execution_count": 4,
   "metadata": {},
   "outputs": [],
   "source": [
    "def RandomNoise(tensor):\n",
    "    std = np.random.uniform(0, NOISE_STD)\n",
    "    return torch.clamp(tensor + torch.FloatTensor(tensor.size()).normal_(0, std), 0, 1)"
   ]
  },
  {
   "cell_type": "code",
   "execution_count": 5,
   "metadata": {},
   "outputs": [],
   "source": [
    "my_transforms = {\n",
    "    'default': T.Compose([\n",
    "        T.Resize(IMG_SIZE),\n",
    "        T.CenterCrop(IMG_SIZE),\n",
    "        T.ToTensor()\n",
    "    ]),\n",
    "    'train': T.Compose([\n",
    "        T.RandomAffine(MAX_ROTATION, (MAX_TRANSITION, MAX_TRANSITION), (MIN_SCALE, MAX_SCALE)),\n",
    "        # T.RandomPerspective(DISTORTION),\n",
    "        T.Resize(IMG_SIZE),\n",
    "        T.CenterCrop(IMG_SIZE),\n",
    "        T.ToTensor(),\n",
    "        T.Lambda(RandomNoise),\n",
    "    ]),\n",
    "    'test': T.Compose([\n",
    "        T.Resize(IMG_SIZE),\n",
    "        T.CenterCrop(IMG_SIZE),\n",
    "        T.ToTensor(),\n",
    "    ])\n",
    "}"
   ]
  },
  {
   "cell_type": "code",
   "execution_count": 6,
   "metadata": {},
   "outputs": [],
   "source": [
    "class MyTransform:\n",
    "    def __init__(self, image_size):\n",
    "        self.image_size = image_size\n",
    "        self.image_transform = T.Compose([\n",
    "            T.ColorJitter((MIN_BRIGHTNESS, MAX_BRIGHTNESS),\n",
    "            (MIN_CONTRAST, MAX_CONTRAST), (MIN_SATURATION,MAX_SATURATION)),\n",
    "            T.ToTensor(),\n",
    "            T.Lambda(RandomNoise),\n",
    "        ])\n",
    "        return\n",
    "    \n",
    "    def __call__(self, img, mask, is_test):\n",
    "        w, h = img.size\n",
    "\n",
    "        if not is_test:\n",
    "            while True:\n",
    "                crop_left, crop_right = sorted(np.random.randint(0, w, size=2))\n",
    "                if crop_right - crop_left > w * 0.9:\n",
    "                    break\n",
    "            \n",
    "            while True:\n",
    "                crop_top, crop_bottom = sorted(np.random.randint(0, h, size=2))\n",
    "                if crop_bottom - crop_top > h * 0.9:\n",
    "                    break\n",
    "                    \n",
    "            angle = np.random.uniform(-180, 180)\n",
    "            translate =  tuple(np.random.uniform(-16, 16, size=(2,)))\n",
    "            scale = np.random.uniform(0.7, 1.1)\n",
    "            shear = np.random.uniform(-0, 0)\n",
    "            fillcolor = 0 # np.random.randint(0, 256)\n",
    "            \n",
    "            img = TF.affine(img, angle, translate, scale, shear, fillcolor=fillcolor)\n",
    "            mask = TF.affine(mask, angle, translate, scale, shear)\n",
    "\n",
    "            img = TF.crop(img, crop_top, crop_left, crop_bottom - crop_top, crop_right - crop_left)\n",
    "            mask = TF.crop(mask, crop_top, crop_left, crop_bottom - crop_top, crop_right - crop_left)\n",
    "        \n",
    "        img = TF.resize(img, self.image_size, interpolation=2)\n",
    "        mask = np.array(TF.resize(mask, self.image_size, interpolation=2))\n",
    "        \n",
    "        if is_test:\n",
    "            img = TF.to_tensor(img)\n",
    "        else:\n",
    "            img = self.image_transform(img)\n",
    "        mask = TF.to_tensor(mask)\n",
    "        return img, mask"
   ]
  },
  {
   "cell_type": "code",
   "execution_count": 7,
   "metadata": {},
   "outputs": [],
   "source": [
    "train_path = 'dataset/train.csv'\n",
    "test_path = 'dataset/test.csv'\n",
    "\n",
    "image_path = 'dataset/images/'"
   ]
  },
  {
   "cell_type": "code",
   "execution_count": 156,
   "metadata": {},
   "outputs": [],
   "source": [
    "def load_image(path, as_gray=True):\n",
    "    return Image.fromarray(io.imread(path, as_gray=as_gray))"
   ]
  },
  {
   "cell_type": "code",
   "execution_count": 157,
   "metadata": {
    "scrolled": false
   },
   "outputs": [
    {
     "data": {
      "application/vnd.jupyter.widget-view+json": {
       "model_id": "e51919c1188040f1af7067adbda71cbf",
       "version_major": 2,
       "version_minor": 0
      },
      "text/plain": [
       "HBox(children=(FloatProgress(value=0.0, max=23960.0), HTML(value='')))"
      ]
     },
     "metadata": {},
     "output_type": "display_data"
    },
    {
     "name": "stdout",
     "output_type": "stream",
     "text": [
      "\n",
      "tensor([[[0.9686, 0.9686, 0.9804,  ..., 1.0000, 1.0000, 1.0000],\n",
      "         [0.9882, 0.9882, 0.9882,  ..., 1.0000, 1.0000, 1.0000],\n",
      "         [1.0000, 1.0000, 1.0000,  ..., 1.0000, 1.0000, 1.0000],\n",
      "         ...,\n",
      "         [1.0000, 1.0000, 1.0000,  ..., 1.0000, 1.0000, 0.9961],\n",
      "         [1.0000, 1.0000, 1.0000,  ..., 1.0000, 1.0000, 0.9961],\n",
      "         [1.0000, 1.0000, 1.0000,  ..., 1.0000, 1.0000, 1.0000]]])\n",
      "torch.Size([1, 64, 64]) <class 'torch.Tensor'>\n",
      "torch.Size([1, 64, 64]) <class 'torch.Tensor'>\n"
     ]
    },
    {
     "data": {
      "image/png": "[encoded data removed]",
      "text/plain": [
       "<Figure size 432x288 with 1 Axes>"
      ]
     },
     "metadata": {
      "needs_background": "light"
     },
     "output_type": "display_data"
    },
    {
     "data": {
      "image/png": "[encoded data removed]",
      "text/plain": [
       "<Figure size 432x288 with 1 Axes>"
      ]
     },
     "metadata": {
      "needs_background": "light"
     },
     "output_type": "display_data"
    },
    {
     "name": "stdout",
     "output_type": "stream",
     "text": [
      "tensor([[[0.9922, 0.9961, 0.9961,  ..., 0.9961, 0.9961, 0.9922],\n",
      "         [0.9882, 0.9961, 0.9961,  ..., 0.9961, 0.9961, 0.9922],\n",
      "         [0.9922, 0.9961, 0.9961,  ..., 0.9961, 0.9961, 0.9961],\n",
      "         ...,\n",
      "         [0.9961, 0.9922, 0.9922,  ..., 0.9922, 0.9882, 0.9922],\n",
      "         [0.9882, 0.9922, 0.9922,  ..., 0.9922, 0.9922, 0.9922],\n",
      "         [0.9882, 0.9922, 0.9922,  ..., 0.9922, 0.9961, 0.9961]]])\n",
      "torch.Size([1, 64, 64]) <class 'torch.Tensor'>\n",
      "torch.Size([1, 64, 64]) <class 'torch.Tensor'>\n"
     ]
    },
    {
     "data": {
      "image/png": "[encoded data removed]",
      "text/plain": [
       "<Figure size 432x288 with 1 Axes>"
      ]
     },
     "metadata": {
      "needs_background": "light"
     },
     "output_type": "display_data"
    },
    {
     "data": {
      "image/png": "[encoded data removed]",
      "text/plain": [
       "<Figure size 432x288 with 1 Axes>"
      ]
     },
     "metadata": {
      "needs_background": "light"
     },
     "output_type": "display_data"
    },
    {
     "name": "stdout",
     "output_type": "stream",
     "text": [
      "tensor([[[0.9843, 0.9843, 0.9804,  ..., 0.9843, 0.9843, 0.9882],\n",
      "         [0.9882, 0.9882, 0.9922,  ..., 0.9922, 0.9922, 0.9843],\n",
      "         [0.9882, 0.9882, 0.9922,  ..., 0.9882, 0.9882, 0.9922],\n",
      "         ...,\n",
      "         [0.9922, 0.9922, 0.9922,  ..., 0.9882, 0.9882, 0.9922],\n",
      "         [0.9922, 0.9882, 0.9882,  ..., 0.9922, 0.9843, 0.9843],\n",
      "         [0.9843, 0.9804, 0.9882,  ..., 0.9882, 0.9882, 0.9882]]])\n",
      "torch.Size([1, 64, 64]) <class 'torch.Tensor'>\n",
      "torch.Size([1, 64, 64]) <class 'torch.Tensor'>\n"
     ]
    },
    {
     "data": {
      "image/png": "[encoded data removed]",
      "text/plain": [
       "<Figure size 432x288 with 1 Axes>"
      ]
     },
     "metadata": {
      "needs_background": "light"
     },
     "output_type": "display_data"
    },
    {
     "data": {
      "image/png": "[encoded data removed]",
      "text/plain": [
       "<Figure size 432x288 with 1 Axes>"
      ]
     },
     "metadata": {
      "needs_background": "light"
     },
     "output_type": "display_data"
    },
    {
     "name": "stdout",
     "output_type": "stream",
     "text": [
      "tensor([[[0.9804, 0.9882, 0.9882,  ..., 0.9922, 0.9922, 0.9922],\n",
      "         [0.9922, 0.9922, 0.9922,  ..., 1.0000, 1.0000, 0.9961],\n",
      "         [0.9961, 0.9961, 0.9961,  ..., 1.0000, 1.0000, 0.9961],\n",
      "         ...,\n",
      "         [0.9882, 0.9961, 0.9922,  ..., 1.0000, 1.0000, 1.0000],\n",
      "         [0.9882, 0.9922, 0.9922,  ..., 1.0000, 1.0000, 1.0000],\n",
      "         [0.9882, 0.9922, 0.9922,  ..., 1.0000, 1.0000, 1.0000]]])\n",
      "torch.Size([1, 64, 64]) <class 'torch.Tensor'>\n",
      "torch.Size([1, 64, 64]) <class 'torch.Tensor'>\n"
     ]
    },
    {
     "data": {
      "image/png": "[encoded data removed]",
      "text/plain": [
       "<Figure size 432x288 with 1 Axes>"
      ]
     },
     "metadata": {
      "needs_background": "light"
     },
     "output_type": "display_data"
    },
    {
     "data": {
      "image/png": "[encoded data removed]",
      "text/plain": [
       "<Figure size 432x288 with 1 Axes>"
      ]
     },
     "metadata": {
      "needs_background": "light"
     },
     "output_type": "display_data"
    },
    {
     "name": "stdout",
     "output_type": "stream",
     "text": [
      "tensor([[[0.9725, 0.9843, 0.9804,  ..., 0.9882, 0.9843, 0.9804],\n",
      "         [0.9765, 0.9804, 0.9882,  ..., 0.9843, 0.9843, 0.9843],\n",
      "         [0.9843, 0.9843, 0.9922,  ..., 0.9882, 0.9843, 0.9804],\n",
      "         ...,\n",
      "         [0.9843, 0.9843, 0.9882,  ..., 0.9804, 0.9843, 0.9765],\n",
      "         [0.9804, 0.9804, 0.9843,  ..., 0.9804, 0.9882, 0.9804],\n",
      "         [0.9765, 0.9765, 0.9804,  ..., 0.9882, 0.9882, 0.9804]]])\n",
      "torch.Size([1, 64, 64]) <class 'torch.Tensor'>\n",
      "torch.Size([1, 64, 64]) <class 'torch.Tensor'>\n"
     ]
    },
    {
     "data": {
      "image/png": "[encoded data removed]",
      "text/plain": [
       "<Figure size 432x288 with 1 Axes>"
      ]
     },
     "metadata": {
      "needs_background": "light"
     },
     "output_type": "display_data"
    },
    {
     "data": {
      "image/png": "[encoded data removed]",
      "text/plain": [
       "<Figure size 432x288 with 1 Axes>"
      ]
     },
     "metadata": {
      "needs_background": "light"
     },
     "output_type": "display_data"
    }
   ],
   "source": [
    "class BengaliDataset(Dataset):\n",
    "    def __init__(self, path, image_path, \n",
    "                 target='classify',\n",
    "                 transform=my_transforms['default'],\n",
    "                 is_train=True, verbose=True):        \n",
    "        self.is_train = is_train\n",
    "        # if not isinstance(transform, tuple):\n",
    "        #     self.transform = (transform, transform)\n",
    "        # else:\n",
    "        #     self.transform = transform    \n",
    "        # self.transform = transform\n",
    "        self.transform = transform\n",
    "        \n",
    "        assert target in {'reconstruct', 'classify'}\n",
    "        self.target = target\n",
    "        \n",
    "        # reading labels\n",
    "        df = pd.read_csv(path)\n",
    "        \n",
    "        df = df[(df.vowel_diacritic == 0) & (df.consonant_diacritic == 0)]\n",
    "        \n",
    "        self.image_ids = df.image_id.unique()\n",
    "        self.length = len(self.image_ids)\n",
    "        \n",
    "        if self.is_train:\n",
    "            self.labels = df[['grapheme_root','vowel_diacritic','consonant_diacritic']].values\n",
    "        else:\n",
    "            self.labels = [None] * self.length\n",
    "        \n",
    "        # reading images\n",
    "        iterator = [os.path.join(image_path, f'{x}.png') for x in self.image_ids]\n",
    "        with mp.Pool(16) as pool:\n",
    "            iterator = pool.imap(load_image, iterator)\n",
    "            if verbose:\n",
    "                iterator = tqdm(iterator, total=len(self.image_ids))\n",
    "            self.images = list(iterator)\n",
    "        \n",
    "    def __getitem__(self, idx):\n",
    "        if self.target == 'reconstruct':            \n",
    "            img = self.images[idx]\n",
    "            # img1, img2 = self.transform(img, img, not self.is_train)\n",
    "            # return img1, img2\n",
    "            img = self.transform(img)\n",
    "            return img, img\n",
    "        return self.transform(self.images[idx]), self.labels[idx]\n",
    "    \n",
    "    def __len__(self):\n",
    "        return self.length\n",
    "    \n",
    "Autoencoder_Train = BengaliDataset(train_path, image_path, target='reconstruct',\n",
    "    #transform=MyTransform((64,64)),\n",
    "    transform=my_transforms['default'],\n",
    "    is_train=True, verbose=True)\n",
    "# Autoencoder_Test = BengaliDataset(test_path, image_path, target='reconstruct',\n",
    "#     transform=(my_transforms['test'], my_transforms['default']),\n",
    "#     is_train=False, verbose=True)\n",
    "\n",
    "for idx in range(5):\n",
    "    img, target = Autoencoder_Train[idx]\n",
    "    print(target)\n",
    "    print(target.size(), type(target))\n",
    "    print(img.size(), type(img))\n",
    "    \n",
    "    plt.imshow(TF.to_pil_image(img), cmap='gray')\n",
    "    plt.axis('off')\n",
    "    plt.show()\n",
    "    \n",
    "    plt.imshow(TF.to_pil_image(target), cmap='gray')\n",
    "    plt.axis('off')\n",
    "    plt.show()"
   ]
  },
  {
   "cell_type": "markdown",
   "metadata": {},
   "source": [
    "# Variational Autoencoder"
   ]
  },
  {
   "cell_type": "code",
   "execution_count": 158,
   "metadata": {},
   "outputs": [],
   "source": [
    "class EncoderLayer(nn.Module):\n",
    "    def __init__(self, in_ch, out_ch):\n",
    "        super(EncoderLayer, self).__init__()\n",
    "        self.layers = nn.Sequential(\n",
    "            nn.Conv2d(in_ch, out_ch, kernel_size=3, padding=1),\n",
    "            nn.LeakyReLU(0.01,inplace=True),\n",
    "            nn.BatchNorm2d(out_ch),\n",
    "#             nn.Conv2d(out_ch, out_ch, kernel_size=3, padding=1),\n",
    "#             nn.LeakyReLU(0.01,inplace=True),\n",
    "#             nn.BatchNorm2d(out_ch),\n",
    "        )\n",
    "        self.pool = nn.MaxPool2d(2)\n",
    "        self.residuals = nn.Conv2d(in_ch, out_ch, kernel_size=1)\n",
    "    def forward(self, x):\n",
    "        y = self.layers(x)\n",
    "        y = self.pool(y)\n",
    "        return y\n",
    "#         x = self.residuals(x)\n",
    "#         x = self.pool(x)\n",
    "#         return x + y\n",
    "        \n",
    "\n",
    "# x = torch.FloatTensor(size=(1,1,64,64))\n",
    "# test_encoder_layer = EncoderLayer(1, 16)\n",
    "# test_encoder_layer(x).size()"
   ]
  },
  {
   "cell_type": "code",
   "execution_count": 159,
   "metadata": {},
   "outputs": [
    {
     "name": "stdout",
     "output_type": "stream",
     "text": [
      "DecoderLayer(\n",
      "  (conv_transpose): ConvTranspose2d(128, 128, kernel_size=(3, 3), stride=(2, 2), padding=(1, 1), output_padding=(1, 1))\n",
      "  (layers): Sequential(\n",
      "    (0): Conv2d(128, 64, kernel_size=(3, 3), stride=(1, 1), padding=(1, 1))\n",
      "    (1): LeakyReLU(negative_slope=0.01, inplace=True)\n",
      "    (2): BatchNorm2d(64, eps=1e-05, momentum=0.1, affine=True, track_running_stats=True)\n",
      "  )\n",
      "  (upsample): UpsamplingBilinear2d(scale_factor=2.0, mode=bilinear)\n",
      "  (residuals): Conv2d(128, 64, kernel_size=(1, 1), stride=(1, 1))\n",
      ")\n"
     ]
    },
    {
     "data": {
      "text/plain": [
       "torch.Size([16, 64, 8, 8])"
      ]
     },
     "execution_count": 159,
     "metadata": {},
     "output_type": "execute_result"
    }
   ],
   "source": [
    "class DecoderLayer(nn.Module):\n",
    "    def __init__(self, in_ch, out_ch):\n",
    "        super(DecoderLayer, self).__init__()\n",
    "        self.conv_transpose = nn.ConvTranspose2d(in_ch, in_ch, kernel_size=3, stride=2, padding=1, output_padding=1)\n",
    "        self.layers = nn.Sequential(\n",
    "            #nn.LeakyReLU(0.01,inplace=True),\n",
    "            #nn.BatchNorm2d(in_ch),\n",
    "            nn.Conv2d(in_ch, out_ch, kernel_size=3, padding=1),\n",
    "            nn.LeakyReLU(0.01,inplace=True),\n",
    "            nn.BatchNorm2d(out_ch),\n",
    "        )\n",
    "        self.upsample = nn.UpsamplingBilinear2d(scale_factor=2.0)\n",
    "        self.residuals = nn.Conv2d(in_ch, out_ch, kernel_size=1)\n",
    "    def forward(self, x):\n",
    "        y = self.conv_transpose(x)\n",
    "        y = self.layers(y)\n",
    "        return y\n",
    "#         x = self.upsample(x)\n",
    "#         x = self.residuals(x)\n",
    "#         return x + y\n",
    "    \n",
    "x = torch.FloatTensor(size=(16,128,4,4))\n",
    "test_decoder_layer = DecoderLayer(128, 64)\n",
    "print(test_decoder_layer)\n",
    "test_decoder_layer(x).size()"
   ]
  },
  {
   "cell_type": "code",
   "execution_count": 160,
   "metadata": {
    "scrolled": false
   },
   "outputs": [
    {
     "name": "stdout",
     "output_type": "stream",
     "text": [
      "Input: torch.Size([16, 1, 64, 64])\n",
      "Encoded: torch.Size([16, 64]) torch.Size([16, 64])\n",
      "Decoded: torch.Size([16, 1, 64, 64])\n"
     ]
    }
   ],
   "source": [
    "class VAE(nn.Module):\n",
    "    def __init__(self, code_shape=32, filters=16, input_shape=(64,64)):\n",
    "        super(VAE, self).__init__()  \n",
    "        \n",
    "        # params\n",
    "        self.input_shape = input_shape\n",
    "        self.hidden_shape = (input_shape[0] // 16, input_shape[1] // 16)\n",
    "        self.code_shape = code_shape\n",
    "        self.filters = filters\n",
    "        \n",
    "        # encoder convs\n",
    "        self.input_layer = nn.BatchNorm2d(1)\n",
    "        self.encoder_convs = nn.Sequential(\n",
    "            EncoderLayer(1, filters), # 1x64x64 -> 16x32x32\n",
    "            EncoderLayer(filters, filters * 2), # 16x32x32 -> 32x16x16\n",
    "            EncoderLayer(filters * 2, filters * 4), # 32x16x16 -> 64x8x8\n",
    "            EncoderLayer(filters * 4, filters * 8), # 64x8x8 -> 128x4x4\n",
    "        )\n",
    "        \n",
    "        # encoder dense\n",
    "        num_features = self.filters * 8 * np.prod(self.hidden_shape)\n",
    "        self.encoder_fcn = nn.Sequential(\n",
    "            nn.Flatten(),\n",
    "            nn.Linear(num_features, 512),\n",
    "            nn.LeakyReLU(0.01),\n",
    "#             nn.BatchNorm1d(512),\n",
    "        )\n",
    "        self.mean_layer = nn.Linear(512, self.code_shape)\n",
    "        self.logvar_layer = nn.Linear(512, self.code_shape)\n",
    "    \n",
    "        # decoder convs\n",
    "        self.decoder_fcn = nn.Sequential(\n",
    "            nn.Linear(self.code_shape, 512),\n",
    "            nn.LeakyReLU(0.01),\n",
    "#             nn.BatchNorm1d(512),\n",
    "            nn.Linear(512, num_features)\n",
    "        )\n",
    "            \n",
    "        self.decoder_convs = nn.Sequential(\n",
    "            DecoderLayer(filters * 8, filters * 4), # 128x4x4 -> 64x8x8\n",
    "            DecoderLayer(filters * 4, filters * 2), # 64x8x8 -> 32x16x16\n",
    "            DecoderLayer(filters * 2, filters), # 32x16x16 -> 16x32x32\n",
    "            DecoderLayer(filters, filters), # 16x32x32 -> 16x64x64\n",
    "        )\n",
    "        self.output_layer = nn.Sequential(\n",
    "            nn.Conv2d(filters, 1, kernel_size=3, padding=1),\n",
    "            nn.Sigmoid()\n",
    "        )\n",
    "        \n",
    "    def encode(self, x):\n",
    "        x = self.input_layer(x)\n",
    "        x = self.encoder_convs(x)\n",
    "        x = self.encoder_fcn(x)\n",
    "        \n",
    "        mean = self.mean_layer(x)\n",
    "        logvar = self.logvar_layer(x)\n",
    "        return mean, logvar\n",
    "    \n",
    "    def reparametrize(self, mean, logvar):\n",
    "        std = torch.exp(0.5 * logvar)\n",
    "        eps = torch.randn_like(std)\n",
    "        return mean + std * eps\n",
    "    \n",
    "    def decode(self, x):\n",
    "        x = self.decoder_fcn(x)\n",
    "        x = x.view(-1, self.filters * 8, *self.hidden_shape)\n",
    "        x = self.decoder_convs(x)\n",
    "        return self.output_layer(x)\n",
    "    \n",
    "    def forward(self, x):\n",
    "        mean, logvar = self.encode(x)\n",
    "        z = self.reparametrize(mean, logvar)\n",
    "        return self.decode(z), mean, logvar\n",
    "    \n",
    "####\n",
    "\n",
    "vae = VAE(64, filters=16, input_shape=(64,64))\n",
    "# vae test\n",
    "\n",
    "x = torch.FloatTensor(size=(16, 1, 64, 64))\n",
    "print('Input:', x.size())\n",
    "\n",
    "mean, logvar = vae.encode(x)\n",
    "print('Encoded:', mean.size(), logvar.size())\n",
    "\n",
    "decoded = vae.decode(mean)\n",
    "print('Decoded:', decoded.size())"
   ]
  },
  {
   "cell_type": "code",
   "execution_count": 161,
   "metadata": {},
   "outputs": [],
   "source": [
    "class AverageMeter:\n",
    "    def __init__(self):\n",
    "        self.reset()\n",
    "        \n",
    "    def reset(self):\n",
    "        self.value = 0\n",
    "        self.count = 0\n",
    "    \n",
    "    def update(self, value, count=1):\n",
    "        value = float(value)\n",
    "        self.value = (self.value * self.count + value * count) / (self.count + count)\n",
    "        self.count += count\n",
    "    \n",
    "    def __repr__(self):\n",
    "        return f'{self.value:.5f}'"
   ]
  },
  {
   "cell_type": "markdown",
   "metadata": {},
   "source": [
    "# Train"
   ]
  },
  {
   "cell_type": "code",
   "execution_count": 187,
   "metadata": {},
   "outputs": [],
   "source": [
    "num_epochs = 1024 * 6\n",
    "batch_size = 32\n",
    "batch_per_epoch = 512\n",
    "\n",
    "num_test_batches = 4\n",
    "\n",
    "lambda_kld = 1"
   ]
  },
  {
   "cell_type": "code",
   "execution_count": 181,
   "metadata": {},
   "outputs": [
    {
     "name": "stdout",
     "output_type": "stream",
     "text": [
      "Train len: 748\n"
     ]
    }
   ],
   "source": [
    "num_workers = 8\n",
    "\n",
    "train_loader = DataLoader(Autoencoder_Train, batch_size=batch_size, shuffle=True,\n",
    "    num_workers=num_workers, drop_last=True)\n",
    "test_loader = DataLoader(Autoencoder_Train, batch_size=16, shuffle=False)\n",
    "print('Train len:', len(train_loader))\n",
    "batch_per_epoch = len(train_loader)"
   ]
  },
  {
   "cell_type": "markdown",
   "metadata": {},
   "source": [
    "### Initializing"
   ]
  },
  {
   "cell_type": "code",
   "execution_count": 164,
   "metadata": {},
   "outputs": [
    {
     "name": "stdout",
     "output_type": "stream",
     "text": [
      "cuda\n"
     ]
    }
   ],
   "source": [
    "device = 'cuda' if torch.cuda.is_available() else 'cpu'\n",
    "print(device)"
   ]
  },
  {
   "cell_type": "code",
   "execution_count": 165,
   "metadata": {},
   "outputs": [],
   "source": [
    "net = VAE(4, filters=32, input_shape=(64,64))\n",
    "net = net.to(device)"
   ]
  },
  {
   "cell_type": "code",
   "execution_count": 175,
   "metadata": {},
   "outputs": [],
   "source": [
    "def lr_scheduler(epoch):\n",
    "    if epoch < 128:\n",
    "        return 1\n",
    "    if epoch < 512:\n",
    "        return 1e-0\n",
    "    if epoch < 768:\n",
    "        return 1e-0\n",
    "    return 1e-0"
   ]
  },
  {
   "cell_type": "code",
   "execution_count": 188,
   "metadata": {},
   "outputs": [],
   "source": [
    "optimizer = optim.Adamax(net.parameters(), lr=1e-5, betas=(0.99, 0.9995))\n",
    "scheduler = optim.lr_scheduler.LambdaLR(optimizer, lr_scheduler)"
   ]
  },
  {
   "cell_type": "code",
   "execution_count": 189,
   "metadata": {},
   "outputs": [],
   "source": [
    "def loss_function(x, x_gt, mean, logvar):\n",
    "    #bce = nn.BCELoss()(x.view(-1, 64*64), x_gt.view(-1, 64*64))\n",
    "    bce = nn.MSELoss()(x.view(-1, 64*64), x_gt.view(-1, 64*64))\n",
    "    kld = -0.5 * torch.sum(1 + logvar - mean.pow(2) - logvar.exp(), dim=1)\n",
    "    kld = kld.sum()\n",
    "    if lambda_kld == 0:\n",
    "        kld = torch.FloatTensor([0]).to(device)\n",
    "    else:\n",
    "        kld = kld * lambda_kld\n",
    "    return bce, kld"
   ]
  },
  {
   "cell_type": "code",
   "execution_count": 190,
   "metadata": {},
   "outputs": [],
   "source": [
    "metrics_output = Output()\n",
    "plot_output = Output()"
   ]
  },
  {
   "cell_type": "code",
   "execution_count": null,
   "metadata": {
    "scrolled": false
   },
   "outputs": [
    {
     "data": {
      "application/vnd.jupyter.widget-view+json": {
       "model_id": "68b037ebc2194858a527cf0b1f1885ed",
       "version_major": 2,
       "version_minor": 0
      },
      "text/plain": [
       "HBox(children=(FloatProgress(value=0.0, max=3145728.0), HTML(value='')))"
      ]
     },
     "metadata": {},
     "output_type": "display_data"
    },
    {
     "data": {
      "application/vnd.jupyter.widget-view+json": {
       "model_id": "79ed74ec19ef4552a5e196589a9872f7",
       "version_major": 2,
       "version_minor": 0
      },
      "text/plain": [
       "Output()"
      ]
     },
     "metadata": {},
     "output_type": "display_data"
    },
    {
     "data": {
      "application/vnd.jupyter.widget-view+json": {
       "model_id": "a82805947dd0464a9ccbb5479b3c0810",
       "version_major": 2,
       "version_minor": 0
      },
      "text/plain": [
       "Output()"
      ]
     },
     "metadata": {},
     "output_type": "display_data"
    }
   ],
   "source": [
    "pbar = tqdm(total=num_epochs * batch_per_epoch)\n",
    "display(metrics_output)\n",
    "display(plot_output)\n",
    "\n",
    "for epoch in range(num_epochs):\n",
    "    next_epoch = batch_per_epoch * (epoch + 1)\n",
    "        \n",
    "    avg_loss = AverageMeter()\n",
    "    for it, (X_batch, Xgt_batch) in zip(range(batch_per_epoch), train_loader):\n",
    "        net.train()\n",
    "        X_batch = X_batch.to(device)\n",
    "        Xgt_batch = Xgt_batch.to(device)\n",
    "        \n",
    "        \n",
    "        optimizer.zero_grad()\n",
    "        \n",
    "        Xpred_batch, mean, logvar = net(X_batch)\n",
    "        bce, kld = loss_function(Xpred_batch, Xgt_batch, mean, logvar)\n",
    "        if lambda_kld == 0:\n",
    "            loss = bce\n",
    "        else:\n",
    "            loss = bce + kld\n",
    "        loss.backward()\n",
    "        \n",
    "        avg_loss.update(loss.item(), X_batch.shape[0])\n",
    "        \n",
    "        optimizer.step()\n",
    "                \n",
    "        if pbar.n % 4 == 0:\n",
    "            with metrics_output:\n",
    "                metrics_output.clear_output(wait=True)\n",
    "                lr = optimizer.param_groups[0]['lr']\n",
    "                print(f\"[E{epoch:04d}, {next_epoch}, {lr}] loss: \" +\n",
    "                      f\"{loss.item():10.5f} = {bce.item():10.5f} + {kld.item():10.5f}\")\n",
    "            pbar.set_description(f'loss: {avg_loss}')\n",
    "        \n",
    "        if pbar.n % 256 == 0:\n",
    "            net.eval()\n",
    "            with torch.no_grad():\n",
    "                img = []\n",
    "                for it, (X_batch, Xgt_batch) in zip(range(num_test_batches), test_loader):\n",
    "                    X_batch = X_batch.to(device)\n",
    "                    mean, logvar = net.encode(X_batch)\n",
    "                    Xpred_batch = net.decode(mean).to('cpu')\n",
    "\n",
    "                    loc = torch.cat([\n",
    "                        torch.cat(list(Xpred_batch), dim=2),\n",
    "                        torch.cat(list(Xgt_batch), dim=2)\n",
    "                    ], dim=1)\n",
    "                    img.append(loc)\n",
    "                img = torch.cat(img, dim=1)\n",
    "            with plot_output:\n",
    "                plot_output.clear_output(wait=True)\n",
    "                _, ax = plt.subplots(1, 1, figsize=(16,10))\n",
    "                ax.imshow(T.ToPILImage()(img), cmap='gray')\n",
    "                ax.axis('off')\n",
    "                plt.show()\n",
    "        pbar.update(1)\n",
    "        # end of iteration\n",
    "    scheduler.step(epoch)\n",
    "    # end of epoch"
   ]
  },
  {
   "cell_type": "raw",
   "metadata": {},
   "source": [
    "0.02230"
   ]
  },
  {
   "cell_type": "code",
   "execution_count": null,
   "metadata": {},
   "outputs": [],
   "source": []
  }
 ],
 "metadata": {
  "kernelspec": {
   "display_name": "Python 3",
   "language": "python",
   "name": "python3"
  },
  "language_info": {
   "codemirror_mode": {
    "name": "ipython",
    "version": 3
   },
   "file_extension": ".py",
   "mimetype": "text/x-python",
   "name": "python",
   "nbconvert_exporter": "python",
   "pygments_lexer": "ipython3",
   "version": "3.7.3"
  }
 },
 "nbformat": 4,
 "nbformat_minor": 2
}
